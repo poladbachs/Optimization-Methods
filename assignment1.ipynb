{
 "cells": [
  {
   "cell_type": "markdown",
   "metadata": {},
   "source": [
    "### Part 1: Theory"
   ]
  },
  {
   "cell_type": "markdown",
   "metadata": {},
   "source": [
    "1. **Definition of a Symmetric Matrix**  \n",
    "A square matrix $A$ is called **symmetric** if $A = A^T$.\n",
    "This means that for every ${i}$ and ${j}$, the element $\\alpha_{ij} = a_{ji}$."
   ]
  },
  {
   "cell_type": "markdown",
   "metadata": {},
   "source": [
    "2. **Definitions of Eigenvalues and Eigenvectors**  \n",
    "For a square matrix $A$, a scalar $\\lambda$ and a nonzero vector $v$ form an eigenpair if $A v = \\lambda v$.  \n",
    "Here, $\\lambda$ is called an **eigenvalue** and $v$ is its corresponding **eigenvector**."
   ]
  },
  {
   "cell_type": "markdown",
   "metadata": {},
   "source": [
    "3. **What is a Singular Matrix?**  \n",
    "A matrix is **singular** if it is not invertible. Equivalently, a square matrix $A$ is singular if $\\det(A) = 0$, or if its rows (or columns) are linearly dependent."
   ]
  },
  {
   "cell_type": "markdown",
   "metadata": {},
   "source": [
    "4. **Positive Definite and Positive Semi-Definite Matrices**  \n",
    "- A symmetric matrix $A$ is **positive definite** if for every nonzero vector $x$, $x^T A x > 0$.  \n",
    "- It is **positive semi-definite** if for every vector $x$, $x^T A x \\ge 0$."
   ]
  },
  {
   "cell_type": "markdown",
   "metadata": {},
   "source": [
    "5. **Proof that \\(A = M^T M\\) is Positive Definite**  \n",
    "Let $M$ be a nonsingular matrix, and define $A = M^T M$. For any nonzero vector $x$:\n",
    "\n",
    "$$\n",
    "x^T A x = x^T (M^T M) x = (Mx)^T (Mx) = \\|Mx\\|^2.\n",
    "$$\n",
    "Since $M$ is nonsingular, $\\|Mx\\|^2 > 0$ whenever $x \\neq 0$. Hence, $A$ is positive definite."
   ]
  },
  {
   "cell_type": "markdown",
   "metadata": {},
   "source": [
    "### Part 2: Programming Problem\n",
    "\n",
    "This notebook implements the required tasks using the NumPy library. The steps include creating vectors and matrices, verifying symmetry, solving linear systems, and checking the results."
   ]
  },
  {
   "cell_type": "code",
   "execution_count": 2,
   "metadata": {},
   "outputs": [],
   "source": [
    "import numpy as np"
   ]
  },
  {
   "cell_type": "code",
   "execution_count": 3,
   "metadata": {},
   "outputs": [
    {
     "name": "stdout",
     "output_type": "stream",
     "text": [
      "Vector b:\n",
      "[-3 -8  7]\n"
     ]
    }
   ],
   "source": [
    "# Point 1: Created vector b and printed it.\n",
    "b = np.array([-3, -8, 7])\n",
    "print(\"Vector b:\")\n",
    "print(b)"
   ]
  },
  {
   "cell_type": "code",
   "execution_count": 4,
   "metadata": {},
   "outputs": [
    {
     "name": "stdout",
     "output_type": "stream",
     "text": [
      "\n",
      "Matrix A:\n",
      "[[-10   3  11]\n",
      " [  3  -5  -4]\n",
      " [ 11  -4  -7]]\n"
     ]
    }
   ],
   "source": [
    "# Point 2: Created matrix A and printed it.\n",
    "A = np.array([[-10,  3, 11],\n",
    "              [  3, -5, -4],\n",
    "              [ 11, -4, -7]])\n",
    "print(\"\\nMatrix A:\")\n",
    "print(A)"
   ]
  },
  {
   "cell_type": "code",
   "execution_count": 5,
   "metadata": {},
   "outputs": [
    {
     "name": "stdout",
     "output_type": "stream",
     "text": [
      "\n",
      "Is matrix A symmetric? True\n"
     ]
    }
   ],
   "source": [
    "# Point 3: Checked if matrix A is symmetric.\n",
    "is_symmetric = np.allclose(A, A.T)\n",
    "print(\"\\nIs matrix A symmetric?\", is_symmetric)"
   ]
  },
  {
   "cell_type": "code",
   "execution_count": 6,
   "metadata": {},
   "outputs": [
    {
     "name": "stdout",
     "output_type": "stream",
     "text": [
      "\n",
      "Solution x for A*x = b:\n",
      "[2. 2. 1.]\n"
     ]
    }
   ],
   "source": [
    "# Point 4: Solved the linear system A*x = b.\n",
    "x = np.linalg.solve(A, b)\n",
    "print(\"\\nSolution x for A*x = b:\")\n",
    "print(x)"
   ]
  },
  {
   "cell_type": "code",
   "execution_count": 7,
   "metadata": {},
   "outputs": [
    {
     "name": "stdout",
     "output_type": "stream",
     "text": [
      "\n",
      "Product A*x (r):\n",
      "[-3. -8.  7.]\n"
     ]
    }
   ],
   "source": [
    "# Point 5: Computed r = A*x to verify the solution.\n",
    "r = A.dot(x)\n",
    "print(\"\\nProduct A*x (r):\")\n",
    "print(r)"
   ]
  },
  {
   "cell_type": "code",
   "execution_count": 8,
   "metadata": {},
   "outputs": [
    {
     "name": "stdout",
     "output_type": "stream",
     "text": [
      "\n",
      "Norm of (A*x - b): 3.972054645195637e-15\n",
      "The norm should be near zero (any small value is due to floating point precision).\n"
     ]
    }
   ],
   "source": [
    "# Point 6: Computed the norm of (A*x - b).\n",
    "norm_diff = np.linalg.norm(r - b)\n",
    "print(\"\\nNorm of (A*x - b):\", norm_diff)\n",
    "print(\"The norm should be near zero (any small value is due to floating point precision).\")"
   ]
  },
  {
   "cell_type": "code",
   "execution_count": 9,
   "metadata": {},
   "outputs": [
    {
     "name": "stdout",
     "output_type": "stream",
     "text": [
      "\n",
      "Determinant of A: 214.0000000000001\n"
     ]
    }
   ],
   "source": [
    "# Point 7: Computed the determinant of A.\n",
    "det_A = np.linalg.det(A)\n",
    "print(\"\\nDeterminant of A:\", det_A)"
   ]
  },
  {
   "cell_type": "code",
   "execution_count": 10,
   "metadata": {},
   "outputs": [
    {
     "name": "stdout",
     "output_type": "stream",
     "text": [
      "\n",
      "Matrix A1:\n",
      "[[-1.0000e+00  3.0000e+03  1.0000e+00]\n",
      " [ 2.0000e+03 -1.5000e+00 -2.5000e+00]\n",
      " [-1.9990e+03 -2.9985e+03  1.5000e+00]]\n",
      "\n",
      "Is matrix A1 symmetric? False\n",
      "\n",
      "Solution x1 for A1*x1 = b:\n",
      "[ 2.25135002e+13 -5.99729500e+12  1.80143985e+16]\n",
      "\n",
      "Product A1*x1 (r1):\n",
      "[-4. -8.  8.]\n",
      "\n",
      "Norm of (A1*x1 - b): 1.4142135623730951\n",
      "\n",
      "Determinant of A1: 1.3322672964832825e-09\n",
      "\n",
      "Observation:\n",
      "1. Matrix A1 is not symmetric (off-diagonal elements differ).\n",
      "2. The determinant is nearly zero, indicating that A1 is nearly singular or ill-conditioned.\n",
      "3. This ill-conditioning may cause numerical instability when solving A1*x1 = b.\n"
     ]
    }
   ],
   "source": [
    "# Point 8: Defined matrix A1 and repeated the process.\n",
    "A1 = np.array([[-1,    3000,    1],\n",
    "               [2000,  -1.5,   -2.5],\n",
    "               [-1999, -2998.5, 1.5]])\n",
    "print(\"\\nMatrix A1:\")\n",
    "print(A1)\n",
    "\n",
    "# Checked if A1 is symmetric.\n",
    "is_symmetric_A1 = np.allclose(A1, A1.T)\n",
    "print(\"\\nIs matrix A1 symmetric?\", is_symmetric_A1)\n",
    "\n",
    "# Solved the linear system A1*x1 = b.\n",
    "try:\n",
    "    x1 = np.linalg.solve(A1, b)\n",
    "    print(\"\\nSolution x1 for A1*x1 = b:\")\n",
    "    print(x1)\n",
    "except np.linalg.LinAlgError as e:\n",
    "    print(\"\\nMatrix A1 is singular or ill-conditioned. Error:\", e)\n",
    "\n",
    "# Verified the solution (if computed) by computing r1 = A1*x1.\n",
    "try:\n",
    "    r1 = A1.dot(x1)\n",
    "    print(\"\\nProduct A1*x1 (r1):\")\n",
    "    print(r1)\n",
    "    \n",
    "    # Computed the norm of (A1*x1 - b).\n",
    "    norm_diff_A1 = np.linalg.norm(r1 - b)\n",
    "    print(\"\\nNorm of (A1*x1 - b):\", norm_diff_A1)\n",
    "except NameError:\n",
    "    print(\"Skipping product and norm calculation for A1 because the system could not be solved.\")\n",
    "\n",
    "# Computed the determinant of A1.\n",
    "det_A1 = np.linalg.det(A1)\n",
    "print(\"\\nDeterminant of A1:\", det_A1)\n",
    "\n",
    "print(\"\\nObservation:\")\n",
    "print(\"1. Matrix A1 is not symmetric (off-diagonal elements differ).\")\n",
    "print(\"2. The determinant is nearly zero, indicating that A1 is nearly singular or ill-conditioned.\")\n",
    "print(\"3. This ill-conditioning may cause numerical instability when solving A1*x1 = b.\")\n"
   ]
  }
 ],
 "metadata": {
  "kernelspec": {
   "display_name": "Python 3",
   "language": "python",
   "name": "python3"
  },
  "language_info": {
   "codemirror_mode": {
    "name": "ipython",
    "version": 3
   },
   "file_extension": ".py",
   "mimetype": "text/x-python",
   "name": "python",
   "nbconvert_exporter": "python",
   "pygments_lexer": "ipython3",
   "version": "3.12.3"
  }
 },
 "nbformat": 4,
 "nbformat_minor": 2
}
