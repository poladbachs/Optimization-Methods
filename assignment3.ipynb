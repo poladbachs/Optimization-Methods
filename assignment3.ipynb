{
 "cells": [
  {
   "cell_type": "markdown",
   "metadata": {},
   "source": [
    "### Part 2: Programming Problems"
   ]
  },
  {
   "cell_type": "markdown",
   "metadata": {},
   "source": [
    "#### Problem 1: Bell Curve Fitting\n",
    "##### (1) Import dataset1.csv\n",
    "\n",
    "Import the file `dataset1.csv` (100 rows, 2 columns) using `np.loadtxt` with `skiprows=2` and `delimiter=\",\"`."
   ]
  },
  {
   "cell_type": "code",
   "execution_count": 2,
   "metadata": {},
   "outputs": [
    {
     "name": "stdout",
     "output_type": "stream",
     "text": [
      "Dataset1 shape: (100, 2)\n"
     ]
    }
   ],
   "source": [
    "import numpy as np\n",
    "import matplotlib.pyplot as plt\n",
    "\n",
    "# Import dataset1.csv\n",
    "data1 = np.loadtxt('dataset1.csv', skiprows=2, delimiter=\",\")\n",
    "# First column: z, Second column: y\n",
    "z_data = data1[:, 0]\n",
    "y_data = data1[:, 1]\n",
    "N = data1.shape[0]\n",
    "print(\"Dataset1 shape:\", data1.shape)"
   ]
  },
  {
   "cell_type": "markdown",
   "metadata": {},
   "source": [
    "##### (2) Plot the Point Cloud\n",
    "\n",
    "Plot the data points with the first column on the x-axis and the second column on the y-axis."
   ]
  },
  {
   "cell_type": "code",
   "execution_count": 3,
   "metadata": {},
   "outputs": [
    {
     "data": {
      "image/png": "[encoded data removed]",
      "text/plain": [
       "<Figure size 800x600 with 1 Axes>"
      ]
     },
     "metadata": {},
     "output_type": "display_data"
    }
   ],
   "source": [
    "plt.figure(figsize=(8, 6))\n",
    "plt.scatter(z_data, y_data, color='blue', label='Data Points')\n",
    "plt.xlabel('z')\n",
    "plt.ylabel('y')\n",
    "plt.title('Dataset 1 Point Cloud')\n",
    "plt.legend()\n",
    "plt.grid(True)\n",
    "plt.show()"
   ]
  },
  {
   "cell_type": "markdown",
   "metadata": {},
   "source": [
    "##### (3) Define Model and Objective Function\n",
    "\n",
    "Define the bell curve model:\n",
    "$$\n",
    "m(z;x) = \\exp\\Bigl(-\\frac{(z - x_1)^2}{x_2}\\Bigr)\n",
    "$$\n",
    "and the mean squared error objective:\n",
    "$$\n",
    "f(x) = \\frac{1}{N} \\sum_{i=1}^{N} \\Bigl(m(z_i;x) - y_i\\Bigr)^2.\n",
    "$$\n",
    "\n",
    "Evaluate $ f(x) $ at $ x = (1,0.5) $ and $ x = (0.5,1) $."
   ]
  },
  {
   "cell_type": "code",
   "execution_count": 4,
   "metadata": {},
   "outputs": [
    {
     "name": "stdout",
     "output_type": "stream",
     "text": [
      "f([1, 0.5]) = 0.11204289613814822\n",
      "f([0.5, 1]) = 0.15009253657239355\n"
     ]
    }
   ],
   "source": [
    "def bell_model(z, x):\n",
    "    # x[0]: center, x[1]: width parameter\n",
    "    return np.exp(-((z - x[0])**2) / x[1])\n",
    "\n",
    "def objective(x, z, y):\n",
    "    m = bell_model(z, x)\n",
    "    return np.mean((m - y)**2)\n",
    "\n",
    "# Evaluate objective at two sample parameter values:\n",
    "print(\"f([1, 0.5]) =\", objective([1, 0.5], z_data, y_data))\n",
    "print(\"f([0.5, 1]) =\", objective([0.5, 1], z_data, y_data))"
   ]
  },
  {
   "cell_type": "markdown",
   "metadata": {},
   "source": [
    "##### (4) Show the Gradient of f\n",
    "\n",
    "We want to show that the gradient is given by:\n",
    "$$\n",
    "\\nabla f(x) = \\frac{2}{N}\\sum_{i=1}^{N} \\Bigl(m(z_i;x)-y_i\\Bigr)\n",
    "\\begin{pmatrix}\n",
    "-\\frac{\\partial m(z_i;x)}{\\partial x_1} \\\\\n",
    "-\\frac{\\partial m(z_i;x)}{\\partial x_2}\n",
    "\\end{pmatrix},\n",
    "$$\n",
    "with\n",
    "$$\n",
    "\\frac{\\partial m(z;x)}{\\partial x_1} = m(z;x)\\cdot \\frac{2(z-x_1)}{x_2},\\quad\n",
    "\\frac{\\partial m(z;x)}{\\partial x_2} = m(z;x)\\cdot \\frac{(z-x_1)^2}{x_2^2}.\n",
    "$$"
   ]
  },
  {
   "cell_type": "markdown",
   "metadata": {},
   "source": [
    "##### (5) Implement the Gradient Function\n",
    "\n",
    "Write a function that computes $ \\nabla f(x) $ for any $ x $ using the formulas above.\n",
    "Evaluate the gradient at $ x = (1,0.5) $ and $ x = (0.5,1) $."
   ]
  },
  {
   "cell_type": "code",
   "execution_count": 5,
   "metadata": {},
   "outputs": [
    {
     "name": "stdout",
     "output_type": "stream",
     "text": [
      "grad f([1, 0.5]) = [0.15222549 0.0578975 ]\n",
      "grad f([0.5, 1]) = [0.09240185 0.02646519]\n"
     ]
    }
   ],
   "source": [
    "def grad_objective(x, z, y):\n",
    "    m = bell_model(z, x)\n",
    "    error = m - y\n",
    "    # Compute derivatives using the chain rule:\n",
    "    dm_dx1 = m * (2 * (z - x[0]) / x[1])\n",
    "    dm_dx2 = m * ((z - x[0])**2 / (x[1]**2))\n",
    "    # Gradient (note the negative sign from differentiating the exponent):\n",
    "    grad_x1 = (2/N) * np.sum(error * (-dm_dx1))\n",
    "    grad_x2 = (2/N) * np.sum(error * (-dm_dx2))\n",
    "    return np.array([grad_x1, grad_x2])\n",
    "\n",
    "# Evaluate the gradient at given points:\n",
    "print(\"grad f([1, 0.5]) =\", grad_objective([1, 0.5], z_data, y_data))\n",
    "print(\"grad f([0.5, 1]) =\", grad_objective([0.5, 1], z_data, y_data))"
   ]
  }
 ],
 "metadata": {
  "kernelspec": {
   "display_name": "Python 3",
   "language": "python",
   "name": "python3"
  },
  "language_info": {
   "codemirror_mode": {
    "name": "ipython",
    "version": 3
   },
   "file_extension": ".py",
   "mimetype": "text/x-python",
   "name": "python",
   "nbconvert_exporter": "python",
   "pygments_lexer": "ipython3",
   "version": "3.12.3"
  }
 },
 "nbformat": 4,
 "nbformat_minor": 2
}
