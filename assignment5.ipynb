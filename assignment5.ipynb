{
 "cells": [
  {
   "cell_type": "markdown",
   "id": "0f2b0b40",
   "metadata": {},
   "source": [
    "### Part 2: Programming Problems"
   ]
  },
  {
   "cell_type": "markdown",
   "id": "5c408833",
   "metadata": {},
   "source": [
    "#### Problem 1 (Stochastic Gradient Descent)"
   ]
  },
  {
   "cell_type": "markdown",
   "id": "ce155b18",
   "metadata": {},
   "source": [
    "#### 1. Import the dataset\n",
    "\n",
    "Load the dataset `height_weight_genders.csv` using pandas, and convert it into a NumPy array with gender encoded as 1 for Female and 0 for Male."
   ]
  },
  {
   "cell_type": "code",
   "execution_count": 11,
   "id": "6cc221dc",
   "metadata": {},
   "outputs": [],
   "source": [
    "import pandas as pd\n",
    "import numpy as np\n",
    "from time import time\n",
    "\n",
    "df = pd.read_csv('height_weight_genders.csv')\n",
    "\n",
    "# Encode gender as binary: Female = 1, Male = 0\n",
    "df['gender'] = (df['Gender'] == 'Female').astype(int)\n",
    "\n",
    "# Extract relevant columns\n",
    "data = df[['gender', 'Height', 'Weight']].values"
   ]
  },
  {
   "cell_type": "markdown",
   "id": "db12b0ec",
   "metadata": {},
   "source": [
    "#### 2. Standardise the height column\n",
    "\n",
    "Compute the mean $ \\mu $ and standard deviation $ \\sigma $ of the height values, and replace each height with its standardised value.\n"
   ]
  },
  {
   "cell_type": "code",
   "execution_count": 12,
   "id": "7a5cb82d",
   "metadata": {},
   "outputs": [],
   "source": [
    "# Standardise height column\n",
    "heights = data[:, 1]\n",
    "mu = heights.mean()\n",
    "sigma = heights.std()\n",
    "data[:, 1] = (heights - mu) / sigma"
   ]
  },
  {
   "cell_type": "markdown",
   "id": "2f8f6a9e",
   "metadata": {},
   "source": [
    "#### 3. Build data matrix $Z$ and target vector $Y$\n",
    "\n",
    "Construct the data matrix $Z$ with a first column of ones and a second column of standardised heights. Create the vector $Y$ containing the weight values."
   ]
  },
  {
   "cell_type": "code",
   "execution_count": 13,
   "id": "112e989d",
   "metadata": {},
   "outputs": [],
   "source": [
    "# Build matrix Z and vector Y\n",
    "Z = np.column_stack((np.ones(len(data)), data[:, 1]))\n",
    "Y = data[:, 2]\n",
    "N = len(Y)"
   ]
  },
  {
   "cell_type": "markdown",
   "id": "9f9dd700",
   "metadata": {},
   "source": [
    "#### 4. Objective function\n",
    "\n",
    "Define the function $ f(x) = \\frac{1}{2N} \\| Y - Zx \\|^2 $ that measures prediction error."
   ]
  },
  {
   "cell_type": "code",
   "execution_count": 14,
   "id": "06784cd8",
   "metadata": {},
   "outputs": [],
   "source": [
    "def objective(Y, Z, x):\n",
    "    \"\"\"Compute prediction error f(x).\"\"\"\n",
    "    residuals = Z.dot(x) - Y\n",
    "    return 0.5 * np.dot(residuals, residuals) / N"
   ]
  },
  {
   "cell_type": "markdown",
   "id": "e39b6ff9",
   "metadata": {},
   "source": [
    "#### 5. Gradient Function\n",
    "\n",
    "We want to compute the gradient of the objective function  \n",
    "$$\n",
    "f(x) = \\frac{1}{2N} \\|Y - Zx\\|^2.\n",
    "$$\n",
    "\n",
    "The gradient is given by  \n",
    "$$\n",
    "\\nabla f(x) = \\frac{1}{N} Z^T (Zx - Y),\n",
    "$$  \n",
    "which is the vectorized form of the average of all sample-wise gradients:  \n",
    "$$\n",
    "\\nabla f(x) = \\frac{1}{N} \\sum_{i=1}^{N} \\nabla f_i(x),\n",
    "$$  \n",
    "where  \n",
    "$$\n",
    "\\nabla f_i(x) = (x^T z^{(i)} - y^{(i)}) z^{(i)}.\n",
    "$$\n",
    "We now implement this gradient function.\n"
   ]
  },
  {
   "cell_type": "code",
   "execution_count": 17,
   "id": "c04081ea",
   "metadata": {},
   "outputs": [],
   "source": [
    "def gradient(Y, Z, x):\n",
    "    \"\"\"Compute gradient ∇f(x).\"\"\"\n",
    "    return Z.T.dot(Z.dot(x) - Y) / N"
   ]
  },
  {
   "cell_type": "markdown",
   "id": "164f2493",
   "metadata": {},
   "source": [
    "#### 6. Strong convexity constant $ \\mu $\n",
    "\n",
    "Since $ \\nabla^2 f(x) = \\frac{1}{N} Z^T Z $, we compute the smallest eigenvalue of this matrix to estimate the strong convexity constant $ \\mu $."
   ]
  },
  {
   "cell_type": "code",
   "execution_count": 18,
   "id": "66bc4c6b",
   "metadata": {},
   "outputs": [
    {
     "name": "stdout",
     "output_type": "stream",
     "text": [
      "Strong convexity constant μ = 1.000000\n"
     ]
    }
   ],
   "source": [
    "# Compute strong convexity constant\n",
    "eigvals = np.linalg.eigh(Z.T.dot(Z) / N)[0]\n",
    "mu = eigvals.min()\n",
    "print(f\"Strong convexity constant μ = {mu:.6f}\")"
   ]
  },
  {
   "cell_type": "markdown",
   "id": "9690f826",
   "metadata": {},
   "source": [
    "#### 7. Compute the closed-form solution\n",
    "\n",
    "Solve the normal equations $ Z^T Z x^* = Z^T Y $ and evaluate $ f(x^*) $."
   ]
  },
  {
   "cell_type": "code",
   "execution_count": 19,
   "id": "e4f50254",
   "metadata": {},
   "outputs": [
    {
     "name": "stdout",
     "output_type": "stream",
     "text": [
      "x* = [161.44035683  29.69099655]\n",
      "f(x*) = 74.64674197456483\n"
     ]
    }
   ],
   "source": [
    "# Solve for x*\n",
    "x_star = np.linalg.solve(Z.T @ Z, Z.T @ Y)\n",
    "f_star = objective(Y, Z, x_star)\n",
    "\n",
    "print(\"x* =\", x_star)\n",
    "print(\"f(x*) =\", f_star)"
   ]
  },
  {
   "cell_type": "markdown",
   "id": "1040736f",
   "metadata": {},
   "source": [
    "#### 8. Evaluate one stochastic gradient\n",
    "\n",
    "At $ x^{(0)} = (10, 2) $, select a random index $ i $ and compute one stochastic gradient $ \\nabla f_i(x^{(0)}) $."
   ]
  },
  {
   "cell_type": "code",
   "execution_count": 20,
   "id": "7fb81adf",
   "metadata": {},
   "outputs": [
    {
     "name": "stdout",
     "output_type": "stream",
     "text": [
      "Stochastic gradient ∇f_i(x⁰) = [-165.79356381  -92.12795397]\n"
     ]
    }
   ],
   "source": [
    "x0 = np.array([10.0, 2.0])\n",
    "i = np.random.randint(N)\n",
    "zi = Z[i]\n",
    "yi = Y[i]\n",
    "\n",
    "# Gradient for individual sample i\n",
    "g0 = (zi @ x0 - yi) * zi\n",
    "print(\"Stochastic gradient ∇f_i(x⁰) =\", g0)"
   ]
  },
  {
   "cell_type": "markdown",
   "id": "f780d47b",
   "metadata": {},
   "source": [
    "#### 9. Verify unbiasedness empirically\n",
    "\n",
    "Sample $ \\nabla f_i(x^{(0)}) $ 10,000 times and average to compare with the full gradient $ \\nabla f(x^{(0)}) $."
   ]
  },
  {
   "cell_type": "code",
   "execution_count": 21,
   "id": "33e90fed",
   "metadata": {},
   "outputs": [
    {
     "name": "stdout",
     "output_type": "stream",
     "text": [
      "Average stochastic gradient: [-150.96828955  -25.14210348]\n",
      "Full gradient: [-151.44035683  -27.69099655]\n"
     ]
    }
   ],
   "source": [
    "# Estimate expectation of stochastic gradient\n",
    "g_avg = np.zeros(2)\n",
    "for _ in range(10000):\n",
    "    i = np.random.randint(N)\n",
    "    zi, yi = Z[i], Y[i]\n",
    "    g_avg += (zi @ x0 - yi) * zi\n",
    "g_avg /= 10000\n",
    "\n",
    "# Full gradient\n",
    "full_grad = gradient(Y, Z, x0)\n",
    "\n",
    "print(\"Average stochastic gradient:\", g_avg)\n",
    "print(\"Full gradient:\", full_grad)"
   ]
  },
  {
   "cell_type": "markdown",
   "id": "d76cc8a9",
   "metadata": {},
   "source": [
    "#### 10. Implement stochastic gradient for mini-batch\n",
    "\n",
    "Write a function to compute a stochastic gradient using a mini-batch of size $ m $, sampled without replacement."
   ]
  },
  {
   "cell_type": "code",
   "execution_count": 22,
   "id": "fa42f72e",
   "metadata": {},
   "outputs": [],
   "source": [
    "def stochastic_gradient(Y, Z, x, m):\n",
    "    \"\"\"Mini-batch stochastic gradient using batch size m (no replacement).\"\"\"\n",
    "    idx = np.random.choice(N, m, replace=False)\n",
    "    Z_batch = Z[idx]\n",
    "    Y_batch = Y[idx]\n",
    "    return Z_batch.T @ (Z_batch @ x - Y_batch) / m"
   ]
  }
 ],
 "metadata": {
  "kernelspec": {
   "display_name": "Python 3",
   "language": "python",
   "name": "python3"
  },
  "language_info": {
   "codemirror_mode": {
    "name": "ipython",
    "version": 3
   },
   "file_extension": ".py",
   "mimetype": "text/x-python",
   "name": "python",
   "nbconvert_exporter": "python",
   "pygments_lexer": "ipython3",
   "version": "3.12.3"
  }
 },
 "nbformat": 4,
 "nbformat_minor": 5
}
