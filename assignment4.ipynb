{
 "cells": [
  {
   "cell_type": "markdown",
   "id": "b17e8fa7",
   "metadata": {},
   "source": [
    "### Part 2: Programming Problems"
   ]
  },
  {
   "cell_type": "markdown",
   "id": "40ff48ca",
   "metadata": {},
   "source": [
    "#### Problem 1 – Line Search\n",
    "##### (1) Define the function $f(x)$\n",
    "\n",
    "We consider the function\n",
    "$$\n",
    "f(x)= x_1^2+2x_2^2,\n",
    "$$\n",
    "where $x=(x_1,x_2)\\in\\mathbb{R}^2$."
   ]
  },
  {
   "cell_type": "code",
   "execution_count": 7,
   "id": "0e1c4c99",
   "metadata": {},
   "outputs": [],
   "source": [
    "import numpy as np\n",
    "\n",
    "def f_line(x):\n",
    "    # x is a numpy array: [x1, x2]\n",
    "    x1, x2 = x[0], x[1]\n",
    "    return x1**2 + 2*x2**2"
   ]
  },
  {
   "cell_type": "markdown",
   "id": "db1c4cdd",
   "metadata": {},
   "source": [
    "##### (2) Define the gradient of $f(x)$\n",
    "\n",
    "The gradient is\n",
    "$$\n",
    "\\nabla f(x)= \\begin{pmatrix} 2x_1 \\\\ 4x_2 \\end{pmatrix}.\n",
    "$$"
   ]
  },
  {
   "cell_type": "code",
   "execution_count": 8,
   "id": "0f74ac7c",
   "metadata": {},
   "outputs": [],
   "source": [
    "def grad_f_line(x):\n",
    "    x1, x2 = x[0], x[1]\n",
    "    return np.array([2*x1, 4*x2])"
   ]
  },
  {
   "cell_type": "markdown",
   "id": "42a51bf4",
   "metadata": {},
   "source": [
    "##### (3) Evaluate $f(x)$ and $\\nabla f(x)$ at $x^{(0)}=(9,1)^T$"
   ]
  },
  {
   "cell_type": "code",
   "execution_count": 9,
   "id": "5632fad7",
   "metadata": {},
   "outputs": [
    {
     "name": "stdout",
     "output_type": "stream",
     "text": [
      "f(x0) = 83\n",
      "grad f(x0) = [18  4]\n"
     ]
    }
   ],
   "source": [
    "x0_line = np.array([9, 1])\n",
    "print(\"f(x0) =\", f_line(x0_line))\n",
    "print(\"grad f(x0) =\", grad_f_line(x0_line))"
   ]
  },
  {
   "cell_type": "markdown",
   "id": "31b13a2c",
   "metadata": {},
   "source": [
    "##### (4) Define the function $wolfe\\_conditions$\n",
    "\n",
    "This function verifies if the Wolfe conditions hold for a given step size $\\alpha>0$. It takes:\n",
    "- A function $f$\n",
    "- Its gradient function $\\nabla f$\n",
    "- A current point $x$\n",
    "- A descent direction $d$\n",
    "- A step size $\\alpha$\n",
    "- Parameters $\\eta$ and $\\bar{\\eta}$\n",
    "\n",
    "and returns a tuple of booleans $(\\text{first\\_wolfe}, \\text{second\\_wolfe})$.\n",
    "\n",
    "The Wolfe conditions are:\n",
    "1. First Wolfe condition (sufficient decrease):\n",
    "$$\n",
    "f(x+\\alpha d)\\le f(x)+\\alpha\\eta\\,\\nabla f(x)^T d.\n",
    "$$\n",
    "2. Second Wolfe condition (curvature):\n",
    "$$\n",
    "\\nabla f(x+\\alpha d)^T d \\ge \\bar{\\eta}\\,\\nabla f(x)^T d.\n",
    "$$"
   ]
  },
  {
   "cell_type": "code",
   "execution_count": 10,
   "id": "bf6f00da",
   "metadata": {},
   "outputs": [],
   "source": [
    "def wolfe_conditions(f, grad_f, x, d, alpha, eta, eta_bar):\n",
    "    cond1 = f(x + alpha * d) <= f(x) + alpha * eta * np.dot(grad_f(x), d)\n",
    "    cond2 = np.dot(grad_f(x + alpha * d), d) >= eta_bar * np.dot(grad_f(x), d)\n",
    "    return (cond1, cond2)\n"
   ]
  }
 ],
 "metadata": {
  "kernelspec": {
   "display_name": "Python 3",
   "language": "python",
   "name": "python3"
  },
  "language_info": {
   "codemirror_mode": {
    "name": "ipython",
    "version": 3
   },
   "file_extension": ".py",
   "mimetype": "text/x-python",
   "name": "python",
   "nbconvert_exporter": "python",
   "pygments_lexer": "ipython3",
   "version": "3.12.3"
  }
 },
 "nbformat": 4,
 "nbformat_minor": 5
}
