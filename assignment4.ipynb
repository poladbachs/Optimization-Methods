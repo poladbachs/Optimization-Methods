{
 "cells": [
  {
   "cell_type": "markdown",
   "id": "b17e8fa7",
   "metadata": {},
   "source": [
    "### Part 2: Programming Problems"
   ]
  },
  {
   "cell_type": "markdown",
   "id": "40ff48ca",
   "metadata": {},
   "source": [
    "#### Problem 1 – Line Search\n",
    "##### (1) Define the function $f(x)$\n",
    "\n",
    "We consider the function\n",
    "$$\n",
    "f(x)= x_1^2+2x_2^2,\n",
    "$$\n",
    "where $x=(x_1,x_2)\\in\\mathbb{R}^2$."
   ]
  },
  {
   "cell_type": "code",
   "execution_count": 7,
   "id": "0e1c4c99",
   "metadata": {},
   "outputs": [],
   "source": [
    "import numpy as np\n",
    "\n",
    "def f_line(x):\n",
    "    # x is a numpy array: [x1, x2]\n",
    "    x1, x2 = x[0], x[1]\n",
    "    return x1**2 + 2*x2**2"
   ]
  },
  {
   "cell_type": "markdown",
   "id": "db1c4cdd",
   "metadata": {},
   "source": [
    "##### (2) Define the gradient of $f(x)$\n",
    "\n",
    "The gradient is\n",
    "$$\n",
    "\\nabla f(x)= \\begin{pmatrix} 2x_1 \\\\ 4x_2 \\end{pmatrix}.\n",
    "$$"
   ]
  },
  {
   "cell_type": "code",
   "execution_count": 8,
   "id": "0f74ac7c",
   "metadata": {},
   "outputs": [],
   "source": [
    "def grad_f_line(x):\n",
    "    x1, x2 = x[0], x[1]\n",
    "    return np.array([2*x1, 4*x2])"
   ]
  },
  {
   "cell_type": "markdown",
   "id": "42a51bf4",
   "metadata": {},
   "source": [
    "##### (3) Evaluate $f(x)$ and $\\nabla f(x)$ at $x^{(0)}=(9,1)^T$"
   ]
  },
  {
   "cell_type": "code",
   "execution_count": 9,
   "id": "5632fad7",
   "metadata": {},
   "outputs": [
    {
     "name": "stdout",
     "output_type": "stream",
     "text": [
      "f(x0) = 83\n",
      "grad f(x0) = [18  4]\n"
     ]
    }
   ],
   "source": [
    "x0_line = np.array([9, 1])\n",
    "print(\"f(x0) =\", f_line(x0_line))\n",
    "print(\"grad f(x0) =\", grad_f_line(x0_line))"
   ]
  },
  {
   "cell_type": "markdown",
   "id": "31b13a2c",
   "metadata": {},
   "source": [
    "##### (4) Define the function $wolfe\\_conditions$\n",
    "\n",
    "This function verifies if the Wolfe conditions hold for a given step size $\\alpha>0$. It takes:\n",
    "- A function $f$\n",
    "- Its gradient function $\\nabla f$\n",
    "- A current point $x$\n",
    "- A descent direction $d$\n",
    "- A step size $\\alpha$\n",
    "- Parameters $\\eta$ and $\\bar{\\eta}$\n",
    "\n",
    "and returns a tuple of booleans $(\\text{first\\_wolfe}, \\text{second\\_wolfe})$.\n",
    "\n",
    "The Wolfe conditions are:\n",
    "1. First Wolfe condition (sufficient decrease):\n",
    "$$\n",
    "f(x+\\alpha d)\\le f(x)+\\alpha\\eta\\,\\nabla f(x)^T d.\n",
    "$$\n",
    "2. Second Wolfe condition (curvature):\n",
    "$$\n",
    "\\nabla f(x+\\alpha d)^T d \\ge \\bar{\\eta}\\,\\nabla f(x)^T d.\n",
    "$$"
   ]
  },
  {
   "cell_type": "code",
   "execution_count": 10,
   "id": "bf6f00da",
   "metadata": {},
   "outputs": [],
   "source": [
    "def wolfe_conditions(f, grad_f, x, d, alpha, eta, eta_bar):\n",
    "    cond1 = f(x + alpha * d) <= f(x) + alpha * eta * np.dot(grad_f(x), d)\n",
    "    cond2 = np.dot(grad_f(x + alpha * d), d) >= eta_bar * np.dot(grad_f(x), d)\n",
    "    return (cond1, cond2)\n"
   ]
  },
  {
   "cell_type": "markdown",
   "id": "7acf138a",
   "metadata": {},
   "source": [
    "##### (5) Test the $wolfe\\_conditions$ function\n",
    "\n",
    "Test for $f(x)=x_1^2+2x_2^2$ at $x^{(0)}=(9,1)^T$ with \n",
    "$$\n",
    "d^{(0)}=-\\nabla f(x^{(0)}),\n",
    "$$ \n",
    "$\\alpha=0.05$, $\\eta=0.01$, and $\\bar{\\eta}=0.8$."
   ]
  },
  {
   "cell_type": "code",
   "execution_count": 11,
   "id": "e739b5c7",
   "metadata": {},
   "outputs": [
    {
     "name": "stdout",
     "output_type": "stream",
     "text": [
      "Wolfe conditions (first, second): (True, False)\n"
     ]
    }
   ],
   "source": [
    "d0_line = -grad_f_line(x0_line)\n",
    "wolfe_test = wolfe_conditions(f_line, grad_f_line, x0_line, d0_line, 0.05, 0.01, 0.8)\n",
    "print(\"Wolfe conditions (first, second):\", wolfe_test)"
   ]
  },
  {
   "cell_type": "markdown",
   "id": "72339250",
   "metadata": {},
   "source": [
    "##### (6) Define the function $backtracking$\n",
    "\n",
    "Implement the backtracking line search. It takes:\n",
    "- A function $f$\n",
    "- Its gradient $\\nabla f$\n",
    "- A current point $x$\n",
    "- A descent direction $d$\n",
    "- A maximum step size $\\bar{\\alpha}$\n",
    "- Parameter $\\eta$ (for the first Wolfe condition)\n",
    "\n",
    "and returns the step size $\\alpha^*$ and the new point $x_{\\text{new}} = x+\\alpha^* d$.  \n",
    "The function should use the $wolfe\\_conditions$ function."
   ]
  },
  {
   "cell_type": "code",
   "execution_count": 14,
   "id": "b9a2b5a0",
   "metadata": {},
   "outputs": [],
   "source": [
    "def backtracking(f, grad_f, x, d, alpha_bar, eta, eta_bar=0.8, tau=0.5):\n",
    "    alpha = alpha_bar\n",
    "    while True:\n",
    "        cond1, cond2 = wolfe_conditions(f, grad_f, x, d, alpha, eta, eta_bar)\n",
    "        if cond1 and cond2:\n",
    "            break\n",
    "        alpha *= tau\n",
    "        if alpha < 1e-8:\n",
    "            break\n",
    "    x_new = x + alpha * d\n",
    "    return alpha, x_new"
   ]
  },
  {
   "cell_type": "markdown",
   "id": "a689f844",
   "metadata": {},
   "source": [
    "##### (7) Test the Backtracking Function\n",
    "\n",
    "Test the backtracking function for $f(x)=x_1^2+2x_2^2$ at $x^{(0)}=(9,1)^T$ with \n",
    "$$\n",
    "d^{(0)}=-\\nabla f(x^{(0)}),\n",
    "$$ \n",
    "$\\bar{\\alpha}=10$, and $\\eta=0.01$."
   ]
  },
  {
   "cell_type": "code",
   "execution_count": 16,
   "id": "9323bc83",
   "metadata": {},
   "outputs": [
    {
     "name": "stdout",
     "output_type": "stream",
     "text": [
      "Test Backtracking: α* = 0.625\n",
      "Test Backtracking: x_new = [-2.25 -1.5 ]\n"
     ]
    }
   ],
   "source": [
    "alpha_star, x_new_line = backtracking(f_line, grad_f_line, x0_line, d0_line, alpha_bar=10, eta=0.01)\n",
    "print(\"Test Backtracking: α* =\", alpha_star)\n",
    "print(\"Test Backtracking: x_new =\", x_new_line)"
   ]
  },
  {
   "cell_type": "markdown",
   "id": "87ec122e",
   "metadata": {},
   "source": [
    "#### Problem 2 – Unconstrained Optimisation\n",
    "##### (1) Define the function\n",
    "\n",
    "We consider:\n",
    "$$\n",
    "f(x)= x_1^3 - x_1 + x_2^3 - x_2.\n",
    "$$"
   ]
  },
  {
   "cell_type": "code",
   "execution_count": null,
   "id": "a7e5131f",
   "metadata": {},
   "outputs": [],
   "source": [
    "def f_uncon(x):\n",
    "    # x is a numpy array [x1, x2]\n",
    "    x1, x2 = x[0], x[1]\n",
    "    return x1**3 - x1 + x2**3 - x2"
   ]
  },
  {
   "cell_type": "markdown",
   "id": "e290ab36",
   "metadata": {},
   "source": [
    "##### (2) Define the gradient of $f(x)$\n",
    "\n",
    "For $x_1^3-x_1$, the derivative is $3x_1^2-1$.  \n",
    "For $x_2^3-x_2$, the derivative is $3x_2^2-1$.  \n",
    "\n",
    "Thus,\n",
    "$$\n",
    "\\nabla f(x)= \\begin{pmatrix} 3x_1^2-1 \\\\ 3x_2^2-1 \\end{pmatrix}.\n",
    "$$"
   ]
  },
  {
   "cell_type": "code",
   "execution_count": null,
   "id": "f728964b",
   "metadata": {},
   "outputs": [],
   "source": [
    "def grad_f_uncon(x):\n",
    "    # Compute gradient components for f(x)=x1^3-x1+x2^3-x2\n",
    "    x1, x2 = x[0], x[1]\n",
    "    return np.array([3*x1**2 - 1, 3*x2**2 - 1])"
   ]
  },
  {
   "cell_type": "markdown",
   "id": "a3246bbe",
   "metadata": {},
   "source": [
    "##### (3) Fixed-step Gradient Descent\n",
    "\n",
    "We implement gradient descent with the update rule:\n",
    "$$\n",
    "x^{(k+1)} = x^{(k)} - \\alpha\\,\\nabla f(x^{(k)}),\n",
    "$$\n",
    "with a constant step size $\\alpha$.  \n",
    "We use the starting point $x^{(0)}=(1,1)^T$."
   ]
  },
  {
   "cell_type": "code",
   "execution_count": 19,
   "id": "fb983663",
   "metadata": {},
   "outputs": [
    {
     "name": "stdout",
     "output_type": "stream",
     "text": [
      "Fixed-step GD final x: [0.5870474 0.5870474]\n",
      "Fixed-step GD f(x): -0.7694727904830598\n"
     ]
    }
   ],
   "source": [
    "def fixed_gd(f, grad_f, x_start, alpha, max_iter=1000, tol=1e-6):\n",
    "    # Initialize current point and store iterates\n",
    "    x_current = np.array(x_start, dtype=float)\n",
    "    iterates = [x_current.copy()]\n",
    "    for _ in range(max_iter):\n",
    "        grad = grad_f(x_current)\n",
    "        # Stop if the gradient norm is below tolerance\n",
    "        if np.linalg.norm(grad) < tol:\n",
    "            break\n",
    "        # Update rule for gradient descent\n",
    "        x_current = x_current - alpha * grad\n",
    "        iterates.append(x_current.copy())\n",
    "    return x_current, iterates\n",
    "\n",
    "x0_uncon = np.array([1, 1])\n",
    "alpha_fixed = 0.001  # Chosen fixed step size\n",
    "x_fixed, iterates_fixed = fixed_gd(f_uncon, grad_f_uncon, x0_uncon, alpha_fixed)\n",
    "print(\"Fixed-step GD final x:\", x_fixed)\n",
    "print(\"Fixed-step GD f(x):\", f_uncon(x_fixed))"
   ]
  },
  {
   "cell_type": "markdown",
   "id": "a86220d5",
   "metadata": {},
   "source": [
    "##### (4) Gradient Descent with Backtracking\n",
    "\n",
    "Implement gradient descent using backtracking line search.  \n",
    "This method chooses $\\alpha$ at each step so that the sufficient decrease condition holds."
   ]
  },
  {
   "cell_type": "code",
   "execution_count": 20,
   "id": "93699a2b",
   "metadata": {},
   "outputs": [
    {
     "name": "stdout",
     "output_type": "stream",
     "text": [
      "Backtracking GD final x: [0.57735046 0.57735046]\n",
      "Backtracking GD f(x): -0.7698003589193778\n"
     ]
    }
   ],
   "source": [
    "def backtracking(f, grad_f, x, d, alpha_bar, eta, eta_bar=0.8, tau=0.5):\n",
    "    # Initialize step size with the maximum allowed\n",
    "    alpha = alpha_bar\n",
    "    # Loop until the sufficient decrease condition is met\n",
    "    while True:\n",
    "        # Check first Wolfe condition: f(x+alpha*d) <= f(x) + alpha*eta*(grad f(x))^T*d\n",
    "        if f(x + alpha * d) <= f(x) + alpha * eta * np.dot(grad_f(x), d):\n",
    "            break\n",
    "        alpha *= tau  # Reduce alpha by factor tau (e.g., 0.5)\n",
    "        if alpha < 1e-8:\n",
    "            break  # Avoid extremely small steps\n",
    "    return alpha\n",
    "\n",
    "def gd_backtracking(f, grad_f, x_start, alpha_bar=1, eta=0.01, tau=0.5, max_iter=1000, tol=1e-6):\n",
    "    x_current = np.array(x_start, dtype=float)\n",
    "    iterates = [x_current.copy()]\n",
    "    while True:\n",
    "        grad = grad_f(x_current)\n",
    "        if np.linalg.norm(grad) < tol:\n",
    "            break\n",
    "        d = -grad  # Descent direction is negative gradient\n",
    "        # Use backtracking to choose step size\n",
    "        alpha = backtracking(f, grad_f, x_current, d, alpha_bar, eta, tau=tau)\n",
    "        # Update the current point\n",
    "        x_current = x_current - alpha * grad\n",
    "        iterates.append(x_current.copy())\n",
    "        if len(iterates) >= max_iter:\n",
    "            break\n",
    "    return x_current, iterates\n",
    "\n",
    "x_bt, iterates_bt = gd_backtracking(f_uncon, grad_f_uncon, x0_uncon, alpha_bar=1, eta=0.01)\n",
    "print(\"Backtracking GD final x:\", x_bt)\n",
    "print(\"Backtracking GD f(x):\", f_uncon(x_bt))"
   ]
  },
  {
   "cell_type": "markdown",
   "id": "130fb004",
   "metadata": {},
   "source": [
    "##### (5) Newton’s Method with Backtracking\n",
    "\n",
    "Implement Newton’s method with the update rule:\n",
    "$$\n",
    "x^{(k+1)} = x^{(k)} - [\\nabla^2 f(x^{(k)})]^{-1}\\nabla f(x^{(k)}),\n",
    "$$\n",
    "combined with backtracking line search.\n",
    "\n",
    "For $f(x)=x_1^3-x_1+x_2^3-x_2$, the Hessian is given by:\n",
    "$$\n",
    "\\nabla^2 f(x)= \\begin{pmatrix} 6x_1 & 0 \\\\ 0 & 6x_2 \\end{pmatrix}.\n",
    "$$"
   ]
  },
  {
   "cell_type": "code",
   "execution_count": 21,
   "id": "ca3b3912",
   "metadata": {},
   "outputs": [
    {
     "name": "stdout",
     "output_type": "stream",
     "text": [
      "Newton with backtracking final x: [0.57735027 0.57735027]\n",
      "Newton with backtracking f(x): -0.769800358919501\n"
     ]
    }
   ],
   "source": [
    "def hessian_f_uncon(x):\n",
    "    # Hessian for f(x)=x1^3-x1+x2^3-x2\n",
    "    x1, x2 = x[0], x[1]\n",
    "    return np.array([[6*x1, 0],\n",
    "                     [0, 6*x2]])\n",
    "\n",
    "def newton_backtracking(f, grad_f, hessian_f, x_start, alpha_bar=1, eta=0.01, tau=0.5, max_iter=100, tol=1e-6):\n",
    "    x_current = np.array(x_start, dtype=float)\n",
    "    iterates = [x_current.copy()]\n",
    "    for _ in range(max_iter):\n",
    "        grad = grad_f(x_current)\n",
    "        if np.linalg.norm(grad) < tol:\n",
    "            break\n",
    "        H = hessian_f(x_current)\n",
    "        # Compute the Newton direction using the Hessian inverse\n",
    "        d = -np.linalg.solve(H, grad)\n",
    "        # Use backtracking line search to choose the step size for Newton's method\n",
    "        alpha = backtracking(f, grad_f, x_current, d, alpha_bar, eta, tau=tau)\n",
    "        x_current = x_current + alpha * d\n",
    "        iterates.append(x_current.copy())\n",
    "    return x_current, iterates\n",
    "\n",
    "x_newton_bt, iterates_newton_bt = newton_backtracking(f_uncon, grad_f_uncon, hessian_f_uncon, x0_uncon, alpha_bar=1, eta=0.01)\n",
    "print(\"Newton with backtracking final x:\", x_newton_bt)\n",
    "print(\"Newton with backtracking f(x):\", f_uncon(x_newton_bt))"
   ]
  },
  {
   "cell_type": "markdown",
   "id": "9616038f",
   "metadata": {},
   "source": [
    "##### (6) Final Results for Problem 2\n",
    "\n",
    "We solved the problem using:\n",
    "- Fixed-step Gradient Descent,\n",
    "- Gradient Descent with Backtracking,\n",
    "- Newton’s Method with Backtracking.\n",
    "\n",
    "Review the final values of $x$ and $f(x)$."
   ]
  },
  {
   "cell_type": "code",
   "execution_count": 22,
   "id": "5c6dcb27",
   "metadata": {},
   "outputs": [
    {
     "name": "stdout",
     "output_type": "stream",
     "text": [
      "Final results for Problem 2:\n",
      "Fixed-step GD final x: [0.5870474 0.5870474] with f(x) = -0.7694727904830598\n",
      "Backtracking GD final x: [0.57735046 0.57735046] with f(x) = -0.7698003589193778\n",
      "Newton with backtracking final x: [0.57735027 0.57735027] with f(x) = -0.769800358919501\n"
     ]
    }
   ],
   "source": [
    "print(\"Final results for Problem 2:\")\n",
    "\n",
    "# Fixed-step Gradient Descent\n",
    "print(\"Fixed-step GD final x:\", x_fixed, \"with f(x) =\", f_uncon(x_fixed))\n",
    "\n",
    "# Gradient Descent with Backtracking\n",
    "print(\"Backtracking GD final x:\", x_bt, \"with f(x) =\", f_uncon(x_bt))\n",
    "\n",
    "# Newton's Method with Backtracking\n",
    "print(\"Newton with backtracking final x:\", x_newton_bt, \"with f(x) =\", f_uncon(x_newton_bt))\n"
   ]
  },
  {
   "cell_type": "markdown",
   "id": "0fce2416",
   "metadata": {},
   "source": [
    "#### Problem 3 – Finite Difference\n",
    "##### (1) Define the forward finite difference function\n",
    "\n",
    "For a function $f$, the forward finite difference approximation for $f'(x)$ is:\n",
    "$$\n",
    "f'(x) \\approx \\frac{f(x+t)-f(x)}{t}.\n",
    "$$\n",
    "The function takes $f$, a point $x$, and a step $t$."
   ]
  },
  {
   "cell_type": "code",
   "execution_count": 23,
   "id": "1ea45f33",
   "metadata": {},
   "outputs": [],
   "source": [
    "def forward_finite_difference(f, x, t):\n",
    "    # Compute the finite difference quotient for the first derivative\n",
    "    return (f(x + t) - f(x)) / t"
   ]
  },
  {
   "cell_type": "markdown",
   "id": "0f90b2ca",
   "metadata": {},
   "source": [
    "##### (2) Define the function $f(x)=\\sin(x)$ and its analytical derivative\n",
    "\n",
    "We define:\n",
    "$$\n",
    "f(x)=\\sin(x)\n",
    "$$\n",
    "and its derivative:\n",
    "$$\n",
    "f'(x)=\\cos(x).\n",
    "$$"
   ]
  },
  {
   "cell_type": "code",
   "execution_count": 24,
   "id": "f8ea74de",
   "metadata": {},
   "outputs": [],
   "source": [
    "import math\n",
    "\n",
    "def f_sin(x):\n",
    "    return math.sin(x)\n",
    "\n",
    "def analytical_deriv_sin(x):\n",
    "    return math.cos(x)"
   ]
  },
  {
   "cell_type": "markdown",
   "id": "254eed6b",
   "metadata": {},
   "source": [
    "##### (3) Estimate $f'(1)$ Using Forward Finite Difference\n",
    "\n",
    "For $f(x)=\\sin(x)$ at $x=1$, compute the approximation for various $t$:\n",
    "$$\n",
    "t=10^{-16}, 10^{-15}, \\dots, 10^{-2}, 10^{-1}.\n",
    "$$\n",
    "Then, compute the error compared to the true derivative $\\cos(1)$, and plot error versus $t$ in log-log scale."
   ]
  },
  {
   "cell_type": "code",
   "execution_count": 26,
   "id": "3fd6d7e8",
   "metadata": {},
   "outputs": [
    {
     "name": "stdout",
     "output_type": "stream",
     "text": [
      "t = 1.0e-16, approx = 0.000000e+00, error = 5.403023e-01\n",
      "t = 1.0e-15, approx = 5.551115e-01, error = 1.480921e-02\n",
      "t = 1.0e-14, approx = 5.329071e-01, error = 7.395254e-03\n",
      "t = 1.0e-13, approx = 5.395684e-01, error = 7.339159e-04\n",
      "t = 1.0e-12, approx = 5.403455e-01, error = 4.324022e-05\n",
      "t = 1.0e-11, approx = 5.403011e-01, error = 1.168704e-06\n",
      "t = 1.0e-10, approx = 5.403022e-01, error = 5.848104e-08\n",
      "t = 1.0e-09, approx = 5.403024e-01, error = 5.254127e-08\n",
      "t = 1.0e-08, approx = 5.403023e-01, error = 1.407212e-08\n",
      "t = 1.0e-07, approx = 5.403023e-01, error = 4.182769e-08\n",
      "t = 1.0e-06, approx = 5.403019e-01, error = 4.207468e-07\n",
      "t = 1.0e-05, approx = 5.402981e-01, error = 4.207362e-06\n",
      "t = 1.0e-04, approx = 5.402602e-01, error = 4.207445e-05\n",
      "t = 1.0e-03, approx = 5.398815e-01, error = 4.208255e-04\n",
      "t = 1.0e-02, approx = 5.360860e-01, error = 4.216325e-03\n",
      "t = 1.0e-01, approx = 4.973638e-01, error = 4.293855e-02\n"
     ]
    },
    {
     "data": {
      "image/png": "[encoded data removed]",
      "text/plain": [
       "<Figure size 800x600 with 1 Axes>"
      ]
     },
     "metadata": {},
     "output_type": "display_data"
    }
   ],
   "source": [
    "import matplotlib.pyplot as plt\n",
    "\n",
    "t_values = np.logspace(-16, -1, num=16)\n",
    "true_deriv = analytical_deriv_sin(1)\n",
    "errors_forward = []\n",
    "\n",
    "for t in t_values:\n",
    "    approx = forward_finite_difference(f_sin, 1, t)\n",
    "    error = abs(approx - true_deriv)\n",
    "    errors_forward.append(error)\n",
    "    print(f\"t = {t:.1e}, approx = {approx:.6e}, error = {error:.6e}\")\n",
    "\n",
    "plt.figure(figsize=(8,6))\n",
    "plt.loglog(t_values, errors_forward, 'o-', label='Forward FD Error')\n",
    "plt.xlabel('t')\n",
    "plt.ylabel('Error')\n",
    "plt.title(\"Forward Finite Difference Error at x=1\")\n",
    "plt.legend()\n",
    "plt.grid(True, which=\"both\")\n",
    "plt.show()"
   ]
  },
  {
   "cell_type": "markdown",
   "id": "c87786ed",
   "metadata": {},
   "source": [
    "##### (4) Define the central difference function\n",
    "\n",
    "The central difference approximation is:\n",
    "$$\n",
    "f'(x) \\approx \\frac{f(x+t)-f(x-t)}{2t}.\n",
    "$$"
   ]
  },
  {
   "cell_type": "code",
   "execution_count": 27,
   "id": "63dfe059",
   "metadata": {},
   "outputs": [],
   "source": [
    "def central_difference(f, x, t):\n",
    "    return (f(x + t) - f(x - t)) / (2*t)"
   ]
  },
  {
   "cell_type": "markdown",
   "id": "16525cb6",
   "metadata": {},
   "source": [
    "##### (5) Compare Errors of Central and Forward Differences\n",
    "\n",
    "For $f(x)=\\sin(x)$ at $x=1$, compute the derivative using central difference for\n",
    "$$\n",
    "t=10^{-16}, 10^{-15}, \\dots, 10^{-1},\n",
    "$$\n",
    "and compare its error with the forward finite difference error on a log-log plot."
   ]
  },
  {
   "cell_type": "code",
   "execution_count": 29,
   "id": "47078ab0",
   "metadata": {},
   "outputs": [
    {
     "name": "stdout",
     "output_type": "stream",
     "text": [
      "t = 1.0e-16, central approx = 5.551115e-01, error = 1.480921e-02\n",
      "t = 1.0e-15, central approx = 5.551115e-01, error = 1.480921e-02\n",
      "t = 1.0e-14, central approx = 5.384582e-01, error = 1.844139e-03\n",
      "t = 1.0e-13, central approx = 5.401235e-01, error = 1.788044e-04\n",
      "t = 1.0e-12, central approx = 5.403455e-01, error = 4.324022e-05\n",
      "t = 1.0e-11, central approx = 5.403011e-01, error = 1.168704e-06\n",
      "t = 1.0e-10, central approx = 5.403022e-01, error = 5.848104e-08\n",
      "t = 1.0e-09, central approx = 5.403024e-01, error = 5.254127e-08\n",
      "t = 1.0e-08, central approx = 5.403023e-01, error = 2.969885e-09\n",
      "t = 1.0e-07, central approx = 5.403023e-01, error = 1.943277e-10\n",
      "t = 1.0e-06, central approx = 5.403023e-01, error = 2.771694e-11\n",
      "t = 1.0e-05, central approx = 5.403023e-01, error = 5.589751e-12\n",
      "t = 1.0e-04, central approx = 5.403023e-01, error = 9.009846e-10\n",
      "t = 1.0e-03, central approx = 5.403022e-01, error = 9.005039e-08\n",
      "t = 1.0e-02, central approx = 5.402933e-01, error = 9.004993e-06\n",
      "t = 1.0e-01, central approx = 5.394023e-01, error = 9.000537e-04\n"
     ]
    },
    {
     "data": {
      "image/png": "[encoded data removed]",
      "text/plain": [
       "<Figure size 800x600 with 1 Axes>"
      ]
     },
     "metadata": {},
     "output_type": "display_data"
    }
   ],
   "source": [
    "errors_central = []\n",
    "for t in t_values:\n",
    "    approx = central_difference(f_sin, 1, t)\n",
    "    error = abs(approx - true_deriv)\n",
    "    errors_central.append(error)\n",
    "    print(f\"t = {t:.1e}, central approx = {approx:.6e}, error = {error:.6e}\")\n",
    "\n",
    "plt.figure(figsize=(8,6))\n",
    "plt.loglog(t_values, errors_forward, 'o-', label='Forward FD Error')\n",
    "plt.loglog(t_values, errors_central, 's-', label='Central FD Error')\n",
    "plt.xlabel('t')\n",
    "plt.ylabel('Error')\n",
    "plt.title(\"Error Comparison at x=1\")\n",
    "plt.legend()\n",
    "plt.grid(True, which=\"both\")\n",
    "plt.show()"
   ]
  },
  {
   "cell_type": "markdown",
   "id": "37926a40",
   "metadata": {},
   "source": [
    "The plot confirms that forward difference errors decrease linearly ($O(t)$), while central difference errors decrease quadratically ($O(t^2)$), reaching much higher accuracy. For very small $t$, both methods suffer from round-off error. Overall, results match theory and behave exactly as expected."
   ]
  }
 ],
 "metadata": {
  "kernelspec": {
   "display_name": "Python 3",
   "language": "python",
   "name": "python3"
  },
  "language_info": {
   "codemirror_mode": {
    "name": "ipython",
    "version": 3
   },
   "file_extension": ".py",
   "mimetype": "text/x-python",
   "name": "python",
   "nbconvert_exporter": "python",
   "pygments_lexer": "ipython3",
   "version": "3.12.3"
  }
 },
 "nbformat": 4,
 "nbformat_minor": 5
}
